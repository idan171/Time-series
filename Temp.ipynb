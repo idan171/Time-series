{
 "cells": [
  {
   "cell_type": "markdown",
   "metadata": {},
   "source": [
    "# Import & Data loading"
   ]
  },
  {
   "cell_type": "code",
   "execution_count": 77,
   "metadata": {},
   "outputs": [],
   "source": [
    "import random\n",
    "import plotly\n",
    "import datetime\n",
    "import numpy as np\n",
    "import pandas as pd\n",
    "import seaborn as sns\n",
    "import plotly.io as pio\n",
    "import plotly.express as px\n",
    "from matplotlib import pyplot\n",
    "import matplotlib.pyplot as plt\n",
    "pio.renderers.default = \"iframe\"\n",
    "import plotly.graph_objects as go\n",
    "from tensorflow.keras.layers import LSTM,Dense\n",
    "from statsmodels.tsa.stattools import adfuller\n",
    "from tensorflow.keras.models import Sequential\n",
    "from sklearn.preprocessing import MinMaxScaler\n",
    "from sklearn.metrics import mean_squared_error\n",
    "from pandas.plotting import autocorrelation_plot\n",
    "from sklearn.metrics import mean_absolute_error, r2_score\n",
    "from statsmodels.graphics.tsaplots import plot_acf, plot_pacf\n",
    "from tensorflow.keras.callbacks import EarlyStopping\n",
    "from statsmodels.tsa.seasonal import seasonal_decompose\n",
    "from tensorflow.keras.layers import Bidirectional, LSTM, Dense\n",
    "from tensorflow.keras.preprocessing.sequence import TimeseriesGenerator"
   ]
  },
  {
   "cell_type": "code",
   "execution_count": 2,
   "metadata": {},
   "outputs": [],
   "source": [
    "#pip install numpy scipy patsy pandas\n"
   ]
  },
  {
   "cell_type": "code",
   "execution_count": 3,
   "metadata": {},
   "outputs": [],
   "source": [
    "#pip install statsmodels\n"
   ]
  },
  {
   "cell_type": "code",
   "execution_count": 4,
   "metadata": {},
   "outputs": [],
   "source": [
    "#import  scipy.signal.signaltools\n",
    "\n",
    "#def _centered(arr, newsize):\n",
    "    # Return the center newsize portion of the array.\n",
    " #   newsize = np.asarray(newsize)\n",
    "  #  currsize = np.array(arr.shape)\n",
    "   # startind = (currsize - newsize) // 2\n",
    "    #endind = startind + newsize\n",
    "    #myslice = [slice(startind[k], endind[k]) for k in range(len(endind))]\n",
    "   # return arr[tuple(myslice)]\n",
    "\n",
    "#scipy.signal.signaltools._centered = _centered"
   ]
  },
  {
   "cell_type": "code",
   "execution_count": 5,
   "metadata": {},
   "outputs": [],
   "source": [
    "df = pd.read_csv('/Users/idanvazana/Library/Mobile Documents/com~apple~CloudDocs/M.sc - Data Science/סמסטר ב/סדרות עתיות/מטלה/city_temperature.csv')"
   ]
  },
  {
   "cell_type": "code",
   "execution_count": 6,
   "metadata": {},
   "outputs": [
    {
     "data": {
      "text/html": [
       "<div>\n",
       "<style scoped>\n",
       "    .dataframe tbody tr th:only-of-type {\n",
       "        vertical-align: middle;\n",
       "    }\n",
       "\n",
       "    .dataframe tbody tr th {\n",
       "        vertical-align: top;\n",
       "    }\n",
       "\n",
       "    .dataframe thead th {\n",
       "        text-align: right;\n",
       "    }\n",
       "</style>\n",
       "<table border=\"1\" class=\"dataframe\">\n",
       "  <thead>\n",
       "    <tr style=\"text-align: right;\">\n",
       "      <th></th>\n",
       "      <th>Region</th>\n",
       "      <th>Country</th>\n",
       "      <th>State</th>\n",
       "      <th>City</th>\n",
       "      <th>Month</th>\n",
       "      <th>Day</th>\n",
       "      <th>Year</th>\n",
       "      <th>AvgTemperature F</th>\n",
       "      <th>AvgTemperature C</th>\n",
       "    </tr>\n",
       "  </thead>\n",
       "  <tbody>\n",
       "    <tr>\n",
       "      <th>0</th>\n",
       "      <td>Africa</td>\n",
       "      <td>Algeria</td>\n",
       "      <td>NaN</td>\n",
       "      <td>Algiers</td>\n",
       "      <td>1</td>\n",
       "      <td>1</td>\n",
       "      <td>1995</td>\n",
       "      <td>64.2</td>\n",
       "      <td>17.888889</td>\n",
       "    </tr>\n",
       "    <tr>\n",
       "      <th>1</th>\n",
       "      <td>Africa</td>\n",
       "      <td>Algeria</td>\n",
       "      <td>NaN</td>\n",
       "      <td>Algiers</td>\n",
       "      <td>1</td>\n",
       "      <td>2</td>\n",
       "      <td>1995</td>\n",
       "      <td>49.4</td>\n",
       "      <td>9.666667</td>\n",
       "    </tr>\n",
       "    <tr>\n",
       "      <th>2</th>\n",
       "      <td>Africa</td>\n",
       "      <td>Algeria</td>\n",
       "      <td>NaN</td>\n",
       "      <td>Algiers</td>\n",
       "      <td>1</td>\n",
       "      <td>3</td>\n",
       "      <td>1995</td>\n",
       "      <td>48.8</td>\n",
       "      <td>9.333333</td>\n",
       "    </tr>\n",
       "    <tr>\n",
       "      <th>3</th>\n",
       "      <td>Africa</td>\n",
       "      <td>Algeria</td>\n",
       "      <td>NaN</td>\n",
       "      <td>Algiers</td>\n",
       "      <td>1</td>\n",
       "      <td>4</td>\n",
       "      <td>1995</td>\n",
       "      <td>46.4</td>\n",
       "      <td>8.000000</td>\n",
       "    </tr>\n",
       "    <tr>\n",
       "      <th>4</th>\n",
       "      <td>Africa</td>\n",
       "      <td>Algeria</td>\n",
       "      <td>NaN</td>\n",
       "      <td>Algiers</td>\n",
       "      <td>1</td>\n",
       "      <td>5</td>\n",
       "      <td>1995</td>\n",
       "      <td>47.9</td>\n",
       "      <td>8.833333</td>\n",
       "    </tr>\n",
       "    <tr>\n",
       "      <th>...</th>\n",
       "      <td>...</td>\n",
       "      <td>...</td>\n",
       "      <td>...</td>\n",
       "      <td>...</td>\n",
       "      <td>...</td>\n",
       "      <td>...</td>\n",
       "      <td>...</td>\n",
       "      <td>...</td>\n",
       "      <td>...</td>\n",
       "    </tr>\n",
       "    <tr>\n",
       "      <th>1048570</th>\n",
       "      <td>Middle East</td>\n",
       "      <td>Oman</td>\n",
       "      <td>NaN</td>\n",
       "      <td>Muscat</td>\n",
       "      <td>2</td>\n",
       "      <td>7</td>\n",
       "      <td>1999</td>\n",
       "      <td>-99.0</td>\n",
       "      <td>-72.777778</td>\n",
       "    </tr>\n",
       "    <tr>\n",
       "      <th>1048571</th>\n",
       "      <td>Middle East</td>\n",
       "      <td>Oman</td>\n",
       "      <td>NaN</td>\n",
       "      <td>Muscat</td>\n",
       "      <td>2</td>\n",
       "      <td>8</td>\n",
       "      <td>1999</td>\n",
       "      <td>-99.0</td>\n",
       "      <td>-72.777778</td>\n",
       "    </tr>\n",
       "    <tr>\n",
       "      <th>1048572</th>\n",
       "      <td>Middle East</td>\n",
       "      <td>Oman</td>\n",
       "      <td>NaN</td>\n",
       "      <td>Muscat</td>\n",
       "      <td>2</td>\n",
       "      <td>9</td>\n",
       "      <td>1999</td>\n",
       "      <td>-99.0</td>\n",
       "      <td>-72.777778</td>\n",
       "    </tr>\n",
       "    <tr>\n",
       "      <th>1048573</th>\n",
       "      <td>Middle East</td>\n",
       "      <td>Oman</td>\n",
       "      <td>NaN</td>\n",
       "      <td>Muscat</td>\n",
       "      <td>2</td>\n",
       "      <td>10</td>\n",
       "      <td>1999</td>\n",
       "      <td>-99.0</td>\n",
       "      <td>-72.777778</td>\n",
       "    </tr>\n",
       "    <tr>\n",
       "      <th>1048574</th>\n",
       "      <td>Middle East</td>\n",
       "      <td>Oman</td>\n",
       "      <td>NaN</td>\n",
       "      <td>Muscat</td>\n",
       "      <td>2</td>\n",
       "      <td>11</td>\n",
       "      <td>1999</td>\n",
       "      <td>-99.0</td>\n",
       "      <td>-72.777778</td>\n",
       "    </tr>\n",
       "  </tbody>\n",
       "</table>\n",
       "<p>1048575 rows × 9 columns</p>\n",
       "</div>"
      ],
      "text/plain": [
       "              Region  Country  State     City  Month  Day  Year  \\\n",
       "0             Africa  Algeria    NaN  Algiers      1    1  1995   \n",
       "1             Africa  Algeria    NaN  Algiers      1    2  1995   \n",
       "2             Africa  Algeria    NaN  Algiers      1    3  1995   \n",
       "3             Africa  Algeria    NaN  Algiers      1    4  1995   \n",
       "4             Africa  Algeria    NaN  Algiers      1    5  1995   \n",
       "...              ...      ...    ...      ...    ...  ...   ...   \n",
       "1048570  Middle East     Oman    NaN   Muscat      2    7  1999   \n",
       "1048571  Middle East     Oman    NaN   Muscat      2    8  1999   \n",
       "1048572  Middle East     Oman    NaN   Muscat      2    9  1999   \n",
       "1048573  Middle East     Oman    NaN   Muscat      2   10  1999   \n",
       "1048574  Middle East     Oman    NaN   Muscat      2   11  1999   \n",
       "\n",
       "         AvgTemperature F  AvgTemperature C  \n",
       "0                    64.2         17.888889  \n",
       "1                    49.4          9.666667  \n",
       "2                    48.8          9.333333  \n",
       "3                    46.4          8.000000  \n",
       "4                    47.9          8.833333  \n",
       "...                   ...               ...  \n",
       "1048570             -99.0        -72.777778  \n",
       "1048571             -99.0        -72.777778  \n",
       "1048572             -99.0        -72.777778  \n",
       "1048573             -99.0        -72.777778  \n",
       "1048574             -99.0        -72.777778  \n",
       "\n",
       "[1048575 rows x 9 columns]"
      ]
     },
     "execution_count": 6,
     "metadata": {},
     "output_type": "execute_result"
    }
   ],
   "source": [
    "df"
   ]
  },
  {
   "cell_type": "code",
   "execution_count": 7,
   "metadata": {},
   "outputs": [
    {
     "data": {
      "text/html": [
       "<div>\n",
       "<style scoped>\n",
       "    .dataframe tbody tr th:only-of-type {\n",
       "        vertical-align: middle;\n",
       "    }\n",
       "\n",
       "    .dataframe tbody tr th {\n",
       "        vertical-align: top;\n",
       "    }\n",
       "\n",
       "    .dataframe thead th {\n",
       "        text-align: right;\n",
       "    }\n",
       "</style>\n",
       "<table border=\"1\" class=\"dataframe\">\n",
       "  <thead>\n",
       "    <tr style=\"text-align: right;\">\n",
       "      <th></th>\n",
       "      <th>Region</th>\n",
       "      <th>Country</th>\n",
       "      <th>State</th>\n",
       "      <th>City</th>\n",
       "      <th>Month</th>\n",
       "      <th>Day</th>\n",
       "      <th>Year</th>\n",
       "      <th>AvgTemperature F</th>\n",
       "      <th>AvgTemperature C</th>\n",
       "    </tr>\n",
       "  </thead>\n",
       "  <tbody>\n",
       "    <tr>\n",
       "      <th>0</th>\n",
       "      <td>Africa</td>\n",
       "      <td>Algeria</td>\n",
       "      <td>NaN</td>\n",
       "      <td>Algiers</td>\n",
       "      <td>1</td>\n",
       "      <td>1</td>\n",
       "      <td>1995</td>\n",
       "      <td>64.2</td>\n",
       "      <td>17.888889</td>\n",
       "    </tr>\n",
       "    <tr>\n",
       "      <th>1</th>\n",
       "      <td>Africa</td>\n",
       "      <td>Algeria</td>\n",
       "      <td>NaN</td>\n",
       "      <td>Algiers</td>\n",
       "      <td>1</td>\n",
       "      <td>2</td>\n",
       "      <td>1995</td>\n",
       "      <td>49.4</td>\n",
       "      <td>9.666667</td>\n",
       "    </tr>\n",
       "    <tr>\n",
       "      <th>2</th>\n",
       "      <td>Africa</td>\n",
       "      <td>Algeria</td>\n",
       "      <td>NaN</td>\n",
       "      <td>Algiers</td>\n",
       "      <td>1</td>\n",
       "      <td>3</td>\n",
       "      <td>1995</td>\n",
       "      <td>48.8</td>\n",
       "      <td>9.333333</td>\n",
       "    </tr>\n",
       "    <tr>\n",
       "      <th>3</th>\n",
       "      <td>Africa</td>\n",
       "      <td>Algeria</td>\n",
       "      <td>NaN</td>\n",
       "      <td>Algiers</td>\n",
       "      <td>1</td>\n",
       "      <td>4</td>\n",
       "      <td>1995</td>\n",
       "      <td>46.4</td>\n",
       "      <td>8.000000</td>\n",
       "    </tr>\n",
       "    <tr>\n",
       "      <th>4</th>\n",
       "      <td>Africa</td>\n",
       "      <td>Algeria</td>\n",
       "      <td>NaN</td>\n",
       "      <td>Algiers</td>\n",
       "      <td>1</td>\n",
       "      <td>5</td>\n",
       "      <td>1995</td>\n",
       "      <td>47.9</td>\n",
       "      <td>8.833333</td>\n",
       "    </tr>\n",
       "  </tbody>\n",
       "</table>\n",
       "</div>"
      ],
      "text/plain": [
       "   Region  Country  State     City  Month  Day  Year  AvgTemperature F  \\\n",
       "0  Africa  Algeria    NaN  Algiers      1    1  1995              64.2   \n",
       "1  Africa  Algeria    NaN  Algiers      1    2  1995              49.4   \n",
       "2  Africa  Algeria    NaN  Algiers      1    3  1995              48.8   \n",
       "3  Africa  Algeria    NaN  Algiers      1    4  1995              46.4   \n",
       "4  Africa  Algeria    NaN  Algiers      1    5  1995              47.9   \n",
       "\n",
       "   AvgTemperature C  \n",
       "0         17.888889  \n",
       "1          9.666667  \n",
       "2          9.333333  \n",
       "3          8.000000  \n",
       "4          8.833333  "
      ]
     },
     "execution_count": 7,
     "metadata": {},
     "output_type": "execute_result"
    }
   ],
   "source": [
    "df.head()"
   ]
  },
  {
   "cell_type": "markdown",
   "metadata": {},
   "source": [
    "# Exploratory data analysis"
   ]
  },
  {
   "cell_type": "code",
   "execution_count": 8,
   "metadata": {},
   "outputs": [
    {
     "data": {
      "text/plain": [
       "(1048575, 9)"
      ]
     },
     "execution_count": 8,
     "metadata": {},
     "output_type": "execute_result"
    }
   ],
   "source": [
    "df.shape"
   ]
  },
  {
   "cell_type": "code",
   "execution_count": 9,
   "metadata": {},
   "outputs": [
    {
     "name": "stdout",
     "output_type": "stream",
     "text": [
      "Series([], dtype: int64)\n"
     ]
    }
   ],
   "source": [
    "print(df.value_counts())"
   ]
  },
  {
   "cell_type": "code",
   "execution_count": 10,
   "metadata": {},
   "outputs": [
    {
     "data": {
      "image/png": "[encoded data removed]",
      "text/plain": [
       "<Figure size 432x288 with 1 Axes>"
      ]
     },
     "metadata": {
      "needs_background": "light"
     },
     "output_type": "display_data"
    }
   ],
   "source": [
    "boxplot = df.boxplot(column=['AvgTemperature F', 'AvgTemperature C'])"
   ]
  },
  {
   "cell_type": "markdown",
   "metadata": {},
   "source": [
    "Changing the variable names"
   ]
  },
  {
   "cell_type": "code",
   "execution_count": 11,
   "metadata": {},
   "outputs": [],
   "source": [
    "df.rename(columns = {'AvgTemperature F' : 'AvgTemperatureF', 'AvgTemperature C' : 'AvgTemperatureC'}, inplace = True)"
   ]
  },
  {
   "cell_type": "markdown",
   "metadata": {},
   "source": [
    "Remove outliers"
   ]
  },
  {
   "cell_type": "code",
   "execution_count": 12,
   "metadata": {},
   "outputs": [],
   "source": [
    "df= df[df.AvgTemperatureF >= -60]\n"
   ]
  },
  {
   "cell_type": "code",
   "execution_count": 13,
   "metadata": {},
   "outputs": [
    {
     "data": {
      "image/png": "[encoded data removed]",
      "text/plain": [
       "<Figure size 432x288 with 1 Axes>"
      ]
     },
     "metadata": {
      "needs_background": "light"
     },
     "output_type": "display_data"
    }
   ],
   "source": [
    "boxplot = df.boxplot(column=['AvgTemperatureF', 'AvgTemperatureC'])"
   ]
  },
  {
   "cell_type": "code",
   "execution_count": 14,
   "metadata": {},
   "outputs": [
    {
     "data": {
      "text/plain": [
       "True"
      ]
     },
     "execution_count": 14,
     "metadata": {},
     "output_type": "execute_result"
    }
   ],
   "source": [
    "df.isnull().values.any()\n"
   ]
  },
  {
   "cell_type": "code",
   "execution_count": 15,
   "metadata": {},
   "outputs": [
    {
     "data": {
      "text/plain": [
       "Region                  0\n",
       "Country                 0\n",
       "State              992090\n",
       "City                    0\n",
       "Month                   0\n",
       "Day                     0\n",
       "Year                    0\n",
       "AvgTemperatureF         0\n",
       "AvgTemperatureC         0\n",
       "dtype: int64"
      ]
     },
     "execution_count": 15,
     "metadata": {},
     "output_type": "execute_result"
    }
   ],
   "source": [
    "df.isnull().sum()"
   ]
  },
  {
   "cell_type": "code",
   "execution_count": 16,
   "metadata": {},
   "outputs": [
    {
     "name": "stderr",
     "output_type": "stream",
     "text": [
      "/Users/idanvazana/opt/anaconda3/lib/python3.8/site-packages/pandas/core/frame.py:4163: SettingWithCopyWarning:\n",
      "\n",
      "\n",
      "A value is trying to be set on a copy of a slice from a DataFrame\n",
      "\n",
      "See the caveats in the documentation: https://pandas.pydata.org/pandas-docs/stable/user_guide/indexing.html#returning-a-view-versus-a-copy\n",
      "\n"
     ]
    }
   ],
   "source": [
    "df.drop(['State','AvgTemperatureC'], axis=1, inplace=True)"
   ]
  },
  {
   "cell_type": "code",
   "execution_count": 17,
   "metadata": {},
   "outputs": [
    {
     "data": {
      "text/plain": [
       "(992090, 7)"
      ]
     },
     "execution_count": 17,
     "metadata": {},
     "output_type": "execute_result"
    }
   ],
   "source": [
    "df.shape"
   ]
  },
  {
   "cell_type": "markdown",
   "metadata": {},
   "source": [
    "Convert to one date column"
   ]
  },
  {
   "cell_type": "code",
   "execution_count": 18,
   "metadata": {},
   "outputs": [
    {
     "name": "stderr",
     "output_type": "stream",
     "text": [
      "<ipython-input-18-ab340640c062>:1: SettingWithCopyWarning:\n",
      "\n",
      "\n",
      "A value is trying to be set on a copy of a slice from a DataFrame.\n",
      "Try using .loc[row_indexer,col_indexer] = value instead\n",
      "\n",
      "See the caveats in the documentation: https://pandas.pydata.org/pandas-docs/stable/user_guide/indexing.html#returning-a-view-versus-a-copy\n",
      "\n"
     ]
    }
   ],
   "source": [
    "df['date'] = pd.to_datetime(dict(year=df.Year, month=df.Month, day=df.Day))\n"
   ]
  },
  {
   "cell_type": "markdown",
   "metadata": {},
   "source": [
    "Average Temerature across the 5 regions"
   ]
  },
  {
   "cell_type": "code",
   "execution_count": 19,
   "metadata": {},
   "outputs": [
    {
     "data": {
      "image/png": "[encoded data removed]",
      "text/plain": [
       "<Figure size 864x576 with 1 Axes>"
      ]
     },
     "metadata": {},
     "output_type": "display_data"
    }
   ],
   "source": [
    "data = df[['Region','AvgTemperatureF','Year']].groupby(['Region','Year']).mean()\n",
    "data = data.reset_index(level=0)\n",
    "\n",
    "sns.set_style('whitegrid')\n",
    "plt.figure(figsize=(12,8))\n",
    "sns.lineplot(data=data,hue='Region',x='Year',y='AvgTemperatureF')\n",
    "_=plt.title('Average temperature across the 5 regions')\n",
    "plt.tight_layout()"
   ]
  },
  {
   "cell_type": "markdown",
   "metadata": {},
   "source": [
    "Average Temperature of the World from 1995 to 2020 with linear fit"
   ]
  },
  {
   "cell_type": "code",
   "execution_count": 20,
   "metadata": {},
   "outputs": [
    {
     "data": {
      "text/html": [
       "<iframe\n",
       "    scrolling=\"no\"\n",
       "    width=\"100%\"\n",
       "    height=\"545px\"\n",
       "    src=\"iframe_figures/figure_20.html\"\n",
       "    frameborder=\"0\"\n",
       "    allowfullscreen\n",
       "></iframe>\n"
      ]
     },
     "metadata": {},
     "output_type": "display_data"
    }
   ],
   "source": [
    "data = df[['Year','AvgTemperatureF']].groupby('Year').mean()\n",
    "linfit = np.polyfit(data.index,data['AvgTemperatureF'],deg=1)\n",
    "linfit = linfit[0]*data.index + linfit[1]\n",
    "\n",
    "fig = px.line(data,title='Average Temperature of the World from 1995 to 2020')\n",
    "fig.add_trace(go.Scatter(x=data.index,y=linfit,name='Linear Fit'))"
   ]
  },
  {
   "cell_type": "markdown",
   "metadata": {},
   "source": [
    "Changing the month label from integer to name & Map charts"
   ]
  },
  {
   "cell_type": "code",
   "execution_count": 21,
   "metadata": {},
   "outputs": [
    {
     "data": {
      "text/html": [
       "<div>\n",
       "<style scoped>\n",
       "    .dataframe tbody tr th:only-of-type {\n",
       "        vertical-align: middle;\n",
       "    }\n",
       "\n",
       "    .dataframe tbody tr th {\n",
       "        vertical-align: top;\n",
       "    }\n",
       "\n",
       "    .dataframe thead th {\n",
       "        text-align: right;\n",
       "    }\n",
       "</style>\n",
       "<table border=\"1\" class=\"dataframe\">\n",
       "  <thead>\n",
       "    <tr style=\"text-align: right;\">\n",
       "      <th></th>\n",
       "      <th>Month</th>\n",
       "      <th>AvgTemperatureF</th>\n",
       "    </tr>\n",
       "    <tr>\n",
       "      <th>Region</th>\n",
       "      <th></th>\n",
       "      <th></th>\n",
       "    </tr>\n",
       "  </thead>\n",
       "  <tbody>\n",
       "    <tr>\n",
       "      <th>Africa</th>\n",
       "      <td>Jan</td>\n",
       "      <td>72.565024</td>\n",
       "    </tr>\n",
       "    <tr>\n",
       "      <th>Africa</th>\n",
       "      <td>Feb</td>\n",
       "      <td>73.756690</td>\n",
       "    </tr>\n",
       "    <tr>\n",
       "      <th>Africa</th>\n",
       "      <td>Mar</td>\n",
       "      <td>74.747041</td>\n",
       "    </tr>\n",
       "    <tr>\n",
       "      <th>Africa</th>\n",
       "      <td>Apr</td>\n",
       "      <td>74.942885</td>\n",
       "    </tr>\n",
       "    <tr>\n",
       "      <th>Africa</th>\n",
       "      <td>May</td>\n",
       "      <td>75.001612</td>\n",
       "    </tr>\n",
       "  </tbody>\n",
       "</table>\n",
       "</div>"
      ],
      "text/plain": [
       "       Month  AvgTemperatureF\n",
       "Region                       \n",
       "Africa   Jan        72.565024\n",
       "Africa   Feb        73.756690\n",
       "Africa   Mar        74.747041\n",
       "Africa   Apr        74.942885\n",
       "Africa   May        75.001612"
      ]
     },
     "execution_count": 21,
     "metadata": {},
     "output_type": "execute_result"
    }
   ],
   "source": [
    "data = df[['Region','Month','AvgTemperatureF']]\n",
    "data = data.groupby(['Region','Month']).mean()\n",
    "\n",
    "months = {1:'Jan',2:'Feb',3:'Mar',4:'Apr',5:'May',6:'Jun',7:'Jul',8:'Aug',9:'Sep',10:'Oct',11:'Nov',12:\"Dec\"}\n",
    "data = data.reset_index(level=1)\n",
    "\n",
    "data['Month'] = data.loc[:,'Month'].map(months)\n",
    "data.head(5)"
   ]
  },
  {
   "cell_type": "code",
   "execution_count": 22,
   "metadata": {},
   "outputs": [
    {
     "data": {
      "text/html": [
       "<div>\n",
       "<style scoped>\n",
       "    .dataframe tbody tr th:only-of-type {\n",
       "        vertical-align: middle;\n",
       "    }\n",
       "\n",
       "    .dataframe tbody tr th {\n",
       "        vertical-align: top;\n",
       "    }\n",
       "\n",
       "    .dataframe thead th {\n",
       "        text-align: right;\n",
       "    }\n",
       "</style>\n",
       "<table border=\"1\" class=\"dataframe\">\n",
       "  <thead>\n",
       "    <tr style=\"text-align: right;\">\n",
       "      <th></th>\n",
       "      <th>Region</th>\n",
       "      <th>Country</th>\n",
       "      <th>City</th>\n",
       "      <th>Month</th>\n",
       "      <th>Day</th>\n",
       "      <th>Year</th>\n",
       "      <th>AvgTemperatureF</th>\n",
       "      <th>date</th>\n",
       "    </tr>\n",
       "  </thead>\n",
       "  <tbody>\n",
       "    <tr>\n",
       "      <th>Highest</th>\n",
       "      <td>Middle East</td>\n",
       "      <td>Kuwait</td>\n",
       "      <td>Kuwait</td>\n",
       "      <td>8</td>\n",
       "      <td>1</td>\n",
       "      <td>2012</td>\n",
       "      <td>110.0</td>\n",
       "      <td>2012-08-01</td>\n",
       "    </tr>\n",
       "    <tr>\n",
       "      <th>Lowest</th>\n",
       "      <td>Asia</td>\n",
       "      <td>Mongolia</td>\n",
       "      <td>Ulan-bator</td>\n",
       "      <td>1</td>\n",
       "      <td>8</td>\n",
       "      <td>2001</td>\n",
       "      <td>-37.2</td>\n",
       "      <td>2001-01-08</td>\n",
       "    </tr>\n",
       "  </tbody>\n",
       "</table>\n",
       "</div>"
      ],
      "text/plain": [
       "              Region   Country        City  Month  Day  Year  AvgTemperatureF  \\\n",
       "Highest  Middle East    Kuwait      Kuwait      8    1  2012            110.0   \n",
       "Lowest          Asia  Mongolia  Ulan-bator      1    8  2001            -37.2   \n",
       "\n",
       "              date  \n",
       "Highest 2012-08-01  \n",
       "Lowest  2001-01-08  "
      ]
     },
     "execution_count": 22,
     "metadata": {},
     "output_type": "execute_result"
    }
   ],
   "source": [
    "data1=df.sort_values(by=['AvgTemperatureF'],ascending=False).head(1)\n",
    "data2=df.sort_values(by=['AvgTemperatureF'],ascending=True).head(1)\n",
    "data = pd.concat([data1,data2],)\n",
    "data.index = ['Highest','Lowest']\n",
    "data"
   ]
  },
  {
   "cell_type": "code",
   "execution_count": 23,
   "metadata": {},
   "outputs": [
    {
     "data": {
      "text/html": [
       "<iframe\n",
       "    scrolling=\"no\"\n",
       "    width=\"100%\"\n",
       "    height=\"545px\"\n",
       "    src=\"iframe_figures/figure_23.html\"\n",
       "    frameborder=\"0\"\n",
       "    allowfullscreen\n",
       "></iframe>\n"
      ]
     },
     "metadata": {},
     "output_type": "display_data"
    }
   ],
   "source": [
    "px.scatter_geo(lat=[29.3117,64.8378],lon=[29.3117,147.7164],text=['Kuwait','Mongolia'],size=[0.5,0.5],color=[110,-50],color_continuous_scale='bluered')"
   ]
  },
  {
   "cell_type": "code",
   "execution_count": 24,
   "metadata": {},
   "outputs": [
    {
     "name": "stdout",
     "output_type": "stream",
     "text": [
      "The top five coldest countries in the world are:  ['Mongolia', 'Iceland', 'Norway', 'Finland', 'Latvia']\n",
      "The top five hottest countries in the world are:  ['Philippines', 'Indonesia', 'Thailand', 'Nigeria', 'Oman']\n"
     ]
    }
   ],
   "source": [
    "data = df[['Country','AvgTemperatureF']].groupby('Country').mean().sort_values('AvgTemperatureF')\n",
    "print('The top five coldest countries in the world are: ',data.index[:5].to_list())\n",
    "print('The top five hottest countries in the world are: ',data.index[-5:].to_list())"
   ]
  },
  {
   "cell_type": "code",
   "execution_count": 25,
   "metadata": {},
   "outputs": [
    {
     "data": {
      "text/html": [
       "<iframe\n",
       "    scrolling=\"no\"\n",
       "    width=\"100%\"\n",
       "    height=\"545px\"\n",
       "    src=\"iframe_figures/figure_25.html\"\n",
       "    frameborder=\"0\"\n",
       "    allowfullscreen\n",
       "></iframe>\n"
      ]
     },
     "metadata": {},
     "output_type": "display_data"
    }
   ],
   "source": [
    "data = df[['Country','Year','AvgTemperatureF']].groupby(['Country','Year']).mean().reset_index()\n",
    "px.choropleth(data_frame=data,locations=\"Country\",locationmode='country names',animation_frame=\"Year\",color='AvgTemperatureF',color_continuous_scale = 'Turbo',title=\"Choropleth plot of countrywise average temperature over the years 1995 to 2019\")"
   ]
  },
  {
   "cell_type": "code",
   "execution_count": 26,
   "metadata": {},
   "outputs": [
    {
     "data": {
      "text/html": [
       "<div>\n",
       "<style scoped>\n",
       "    .dataframe tbody tr th:only-of-type {\n",
       "        vertical-align: middle;\n",
       "    }\n",
       "\n",
       "    .dataframe tbody tr th {\n",
       "        vertical-align: top;\n",
       "    }\n",
       "\n",
       "    .dataframe thead th {\n",
       "        text-align: right;\n",
       "    }\n",
       "</style>\n",
       "<table border=\"1\" class=\"dataframe\">\n",
       "  <thead>\n",
       "    <tr style=\"text-align: right;\">\n",
       "      <th></th>\n",
       "      <th>Region</th>\n",
       "      <th>Country</th>\n",
       "      <th>City</th>\n",
       "      <th>Month</th>\n",
       "      <th>Day</th>\n",
       "      <th>Year</th>\n",
       "      <th>AvgTemperatureF</th>\n",
       "      <th>date</th>\n",
       "    </tr>\n",
       "  </thead>\n",
       "  <tbody>\n",
       "    <tr>\n",
       "      <th>0</th>\n",
       "      <td>Africa</td>\n",
       "      <td>Algeria</td>\n",
       "      <td>Algiers</td>\n",
       "      <td>1</td>\n",
       "      <td>1</td>\n",
       "      <td>1995</td>\n",
       "      <td>64.2</td>\n",
       "      <td>1995-01-01</td>\n",
       "    </tr>\n",
       "    <tr>\n",
       "      <th>1</th>\n",
       "      <td>Africa</td>\n",
       "      <td>Algeria</td>\n",
       "      <td>Algiers</td>\n",
       "      <td>1</td>\n",
       "      <td>2</td>\n",
       "      <td>1995</td>\n",
       "      <td>49.4</td>\n",
       "      <td>1995-01-02</td>\n",
       "    </tr>\n",
       "    <tr>\n",
       "      <th>2</th>\n",
       "      <td>Africa</td>\n",
       "      <td>Algeria</td>\n",
       "      <td>Algiers</td>\n",
       "      <td>1</td>\n",
       "      <td>3</td>\n",
       "      <td>1995</td>\n",
       "      <td>48.8</td>\n",
       "      <td>1995-01-03</td>\n",
       "    </tr>\n",
       "    <tr>\n",
       "      <th>3</th>\n",
       "      <td>Africa</td>\n",
       "      <td>Algeria</td>\n",
       "      <td>Algiers</td>\n",
       "      <td>1</td>\n",
       "      <td>4</td>\n",
       "      <td>1995</td>\n",
       "      <td>46.4</td>\n",
       "      <td>1995-01-04</td>\n",
       "    </tr>\n",
       "    <tr>\n",
       "      <th>4</th>\n",
       "      <td>Africa</td>\n",
       "      <td>Algeria</td>\n",
       "      <td>Algiers</td>\n",
       "      <td>1</td>\n",
       "      <td>5</td>\n",
       "      <td>1995</td>\n",
       "      <td>47.9</td>\n",
       "      <td>1995-01-05</td>\n",
       "    </tr>\n",
       "    <tr>\n",
       "      <th>...</th>\n",
       "      <td>...</td>\n",
       "      <td>...</td>\n",
       "      <td>...</td>\n",
       "      <td>...</td>\n",
       "      <td>...</td>\n",
       "      <td>...</td>\n",
       "      <td>...</td>\n",
       "      <td>...</td>\n",
       "    </tr>\n",
       "    <tr>\n",
       "      <th>1047071</th>\n",
       "      <td>Middle East</td>\n",
       "      <td>Lebanon</td>\n",
       "      <td>Beirut</td>\n",
       "      <td>5</td>\n",
       "      <td>13</td>\n",
       "      <td>2020</td>\n",
       "      <td>67.8</td>\n",
       "      <td>2020-05-13</td>\n",
       "    </tr>\n",
       "    <tr>\n",
       "      <th>1047180</th>\n",
       "      <td>Middle East</td>\n",
       "      <td>Oman</td>\n",
       "      <td>Muscat</td>\n",
       "      <td>4</td>\n",
       "      <td>19</td>\n",
       "      <td>1995</td>\n",
       "      <td>82.8</td>\n",
       "      <td>1995-04-19</td>\n",
       "    </tr>\n",
       "    <tr>\n",
       "      <th>1047338</th>\n",
       "      <td>Middle East</td>\n",
       "      <td>Oman</td>\n",
       "      <td>Muscat</td>\n",
       "      <td>9</td>\n",
       "      <td>24</td>\n",
       "      <td>1995</td>\n",
       "      <td>94.5</td>\n",
       "      <td>1995-09-24</td>\n",
       "    </tr>\n",
       "    <tr>\n",
       "      <th>1047339</th>\n",
       "      <td>Middle East</td>\n",
       "      <td>Oman</td>\n",
       "      <td>Muscat</td>\n",
       "      <td>9</td>\n",
       "      <td>25</td>\n",
       "      <td>1995</td>\n",
       "      <td>92.6</td>\n",
       "      <td>1995-09-25</td>\n",
       "    </tr>\n",
       "    <tr>\n",
       "      <th>1047345</th>\n",
       "      <td>Middle East</td>\n",
       "      <td>Oman</td>\n",
       "      <td>Muscat</td>\n",
       "      <td>10</td>\n",
       "      <td>1</td>\n",
       "      <td>1995</td>\n",
       "      <td>93.1</td>\n",
       "      <td>1995-10-01</td>\n",
       "    </tr>\n",
       "  </tbody>\n",
       "</table>\n",
       "<p>992090 rows × 8 columns</p>\n",
       "</div>"
      ],
      "text/plain": [
       "              Region  Country     City  Month  Day  Year  AvgTemperatureF  \\\n",
       "0             Africa  Algeria  Algiers      1    1  1995             64.2   \n",
       "1             Africa  Algeria  Algiers      1    2  1995             49.4   \n",
       "2             Africa  Algeria  Algiers      1    3  1995             48.8   \n",
       "3             Africa  Algeria  Algiers      1    4  1995             46.4   \n",
       "4             Africa  Algeria  Algiers      1    5  1995             47.9   \n",
       "...              ...      ...      ...    ...  ...   ...              ...   \n",
       "1047071  Middle East  Lebanon   Beirut      5   13  2020             67.8   \n",
       "1047180  Middle East     Oman   Muscat      4   19  1995             82.8   \n",
       "1047338  Middle East     Oman   Muscat      9   24  1995             94.5   \n",
       "1047339  Middle East     Oman   Muscat      9   25  1995             92.6   \n",
       "1047345  Middle East     Oman   Muscat     10    1  1995             93.1   \n",
       "\n",
       "              date  \n",
       "0       1995-01-01  \n",
       "1       1995-01-02  \n",
       "2       1995-01-03  \n",
       "3       1995-01-04  \n",
       "4       1995-01-05  \n",
       "...            ...  \n",
       "1047071 2020-05-13  \n",
       "1047180 1995-04-19  \n",
       "1047338 1995-09-24  \n",
       "1047339 1995-09-25  \n",
       "1047345 1995-10-01  \n",
       "\n",
       "[992090 rows x 8 columns]"
      ]
     },
     "execution_count": 26,
     "metadata": {},
     "output_type": "execute_result"
    }
   ],
   "source": [
    "df"
   ]
  },
  {
   "cell_type": "code",
   "execution_count": 27,
   "metadata": {},
   "outputs": [
    {
     "data": {
      "text/html": [
       "<div>\n",
       "<style scoped>\n",
       "    .dataframe tbody tr th:only-of-type {\n",
       "        vertical-align: middle;\n",
       "    }\n",
       "\n",
       "    .dataframe tbody tr th {\n",
       "        vertical-align: top;\n",
       "    }\n",
       "\n",
       "    .dataframe thead th {\n",
       "        text-align: right;\n",
       "    }\n",
       "</style>\n",
       "<table border=\"1\" class=\"dataframe\">\n",
       "  <thead>\n",
       "    <tr style=\"text-align: right;\">\n",
       "      <th></th>\n",
       "      <th>Region</th>\n",
       "      <th>Country</th>\n",
       "      <th>City</th>\n",
       "      <th>Month</th>\n",
       "      <th>Day</th>\n",
       "      <th>Year</th>\n",
       "      <th>AvgTemperatureF</th>\n",
       "      <th>date</th>\n",
       "    </tr>\n",
       "  </thead>\n",
       "  <tbody>\n",
       "    <tr>\n",
       "      <th>1014633</th>\n",
       "      <td>Middle East</td>\n",
       "      <td>Israel</td>\n",
       "      <td>Tel Aviv</td>\n",
       "      <td>1</td>\n",
       "      <td>1</td>\n",
       "      <td>1995</td>\n",
       "      <td>57.3</td>\n",
       "      <td>1995-01-01</td>\n",
       "    </tr>\n",
       "    <tr>\n",
       "      <th>1014634</th>\n",
       "      <td>Middle East</td>\n",
       "      <td>Israel</td>\n",
       "      <td>Tel Aviv</td>\n",
       "      <td>1</td>\n",
       "      <td>2</td>\n",
       "      <td>1995</td>\n",
       "      <td>56.1</td>\n",
       "      <td>1995-01-02</td>\n",
       "    </tr>\n",
       "    <tr>\n",
       "      <th>1014635</th>\n",
       "      <td>Middle East</td>\n",
       "      <td>Israel</td>\n",
       "      <td>Tel Aviv</td>\n",
       "      <td>1</td>\n",
       "      <td>3</td>\n",
       "      <td>1995</td>\n",
       "      <td>55.9</td>\n",
       "      <td>1995-01-03</td>\n",
       "    </tr>\n",
       "    <tr>\n",
       "      <th>1014636</th>\n",
       "      <td>Middle East</td>\n",
       "      <td>Israel</td>\n",
       "      <td>Tel Aviv</td>\n",
       "      <td>1</td>\n",
       "      <td>4</td>\n",
       "      <td>1995</td>\n",
       "      <td>56.9</td>\n",
       "      <td>1995-01-04</td>\n",
       "    </tr>\n",
       "    <tr>\n",
       "      <th>1014637</th>\n",
       "      <td>Middle East</td>\n",
       "      <td>Israel</td>\n",
       "      <td>Tel Aviv</td>\n",
       "      <td>1</td>\n",
       "      <td>5</td>\n",
       "      <td>1995</td>\n",
       "      <td>56.6</td>\n",
       "      <td>1995-01-05</td>\n",
       "    </tr>\n",
       "    <tr>\n",
       "      <th>...</th>\n",
       "      <td>...</td>\n",
       "      <td>...</td>\n",
       "      <td>...</td>\n",
       "      <td>...</td>\n",
       "      <td>...</td>\n",
       "      <td>...</td>\n",
       "      <td>...</td>\n",
       "      <td>...</td>\n",
       "    </tr>\n",
       "    <tr>\n",
       "      <th>1019269</th>\n",
       "      <td>Middle East</td>\n",
       "      <td>Israel</td>\n",
       "      <td>Tel Aviv</td>\n",
       "      <td>9</td>\n",
       "      <td>11</td>\n",
       "      <td>2007</td>\n",
       "      <td>79.5</td>\n",
       "      <td>2007-09-11</td>\n",
       "    </tr>\n",
       "    <tr>\n",
       "      <th>1019270</th>\n",
       "      <td>Middle East</td>\n",
       "      <td>Israel</td>\n",
       "      <td>Tel Aviv</td>\n",
       "      <td>9</td>\n",
       "      <td>12</td>\n",
       "      <td>2007</td>\n",
       "      <td>79.7</td>\n",
       "      <td>2007-09-12</td>\n",
       "    </tr>\n",
       "    <tr>\n",
       "      <th>1019271</th>\n",
       "      <td>Middle East</td>\n",
       "      <td>Israel</td>\n",
       "      <td>Tel Aviv</td>\n",
       "      <td>9</td>\n",
       "      <td>13</td>\n",
       "      <td>2007</td>\n",
       "      <td>79.7</td>\n",
       "      <td>2007-09-13</td>\n",
       "    </tr>\n",
       "    <tr>\n",
       "      <th>1019272</th>\n",
       "      <td>Middle East</td>\n",
       "      <td>Israel</td>\n",
       "      <td>Tel Aviv</td>\n",
       "      <td>9</td>\n",
       "      <td>14</td>\n",
       "      <td>2007</td>\n",
       "      <td>79.6</td>\n",
       "      <td>2007-09-14</td>\n",
       "    </tr>\n",
       "    <tr>\n",
       "      <th>1019273</th>\n",
       "      <td>Middle East</td>\n",
       "      <td>Israel</td>\n",
       "      <td>Tel Aviv</td>\n",
       "      <td>9</td>\n",
       "      <td>15</td>\n",
       "      <td>2007</td>\n",
       "      <td>80.0</td>\n",
       "      <td>2007-09-15</td>\n",
       "    </tr>\n",
       "  </tbody>\n",
       "</table>\n",
       "<p>4196 rows × 8 columns</p>\n",
       "</div>"
      ],
      "text/plain": [
       "              Region Country      City  Month  Day  Year  AvgTemperatureF  \\\n",
       "1014633  Middle East  Israel  Tel Aviv      1    1  1995             57.3   \n",
       "1014634  Middle East  Israel  Tel Aviv      1    2  1995             56.1   \n",
       "1014635  Middle East  Israel  Tel Aviv      1    3  1995             55.9   \n",
       "1014636  Middle East  Israel  Tel Aviv      1    4  1995             56.9   \n",
       "1014637  Middle East  Israel  Tel Aviv      1    5  1995             56.6   \n",
       "...              ...     ...       ...    ...  ...   ...              ...   \n",
       "1019269  Middle East  Israel  Tel Aviv      9   11  2007             79.5   \n",
       "1019270  Middle East  Israel  Tel Aviv      9   12  2007             79.7   \n",
       "1019271  Middle East  Israel  Tel Aviv      9   13  2007             79.7   \n",
       "1019272  Middle East  Israel  Tel Aviv      9   14  2007             79.6   \n",
       "1019273  Middle East  Israel  Tel Aviv      9   15  2007             80.0   \n",
       "\n",
       "              date  \n",
       "1014633 1995-01-01  \n",
       "1014634 1995-01-02  \n",
       "1014635 1995-01-03  \n",
       "1014636 1995-01-04  \n",
       "1014637 1995-01-05  \n",
       "...            ...  \n",
       "1019269 2007-09-11  \n",
       "1019270 2007-09-12  \n",
       "1019271 2007-09-13  \n",
       "1019272 2007-09-14  \n",
       "1019273 2007-09-15  \n",
       "\n",
       "[4196 rows x 8 columns]"
      ]
     },
     "execution_count": 27,
     "metadata": {},
     "output_type": "execute_result"
    }
   ],
   "source": [
    "df_new=df[df.Country =='Israel']\n",
    "df_new\n",
    "df_new2=df_new\n",
    "df_=df_new\n",
    "df_new"
   ]
  },
  {
   "cell_type": "code",
   "execution_count": 28,
   "metadata": {},
   "outputs": [
    {
     "data": {
      "text/html": [
       "<iframe\n",
       "    scrolling=\"no\"\n",
       "    width=\"100%\"\n",
       "    height=\"545px\"\n",
       "    src=\"iframe_figures/figure_28.html\"\n",
       "    frameborder=\"0\"\n",
       "    allowfullscreen\n",
       "></iframe>\n"
      ]
     },
     "metadata": {},
     "output_type": "display_data"
    }
   ],
   "source": [
    "import plotly.express as px\n",
    "\n",
    "fig = px.bar(df_new, x = \"date\", y = \"AvgTemperatureF\", color = \"Month\", template=\"simple_white\")\n",
    "fig.show()"
   ]
  },
  {
   "cell_type": "code",
   "execution_count": 29,
   "metadata": {},
   "outputs": [
    {
     "name": "stderr",
     "output_type": "stream",
     "text": [
      "/Users/idanvazana/opt/anaconda3/lib/python3.8/site-packages/pandas/core/frame.py:4163: SettingWithCopyWarning:\n",
      "\n",
      "\n",
      "A value is trying to be set on a copy of a slice from a DataFrame\n",
      "\n",
      "See the caveats in the documentation: https://pandas.pydata.org/pandas-docs/stable/user_guide/indexing.html#returning-a-view-versus-a-copy\n",
      "\n"
     ]
    }
   ],
   "source": [
    "df1=df\n",
    "df1 = df1[df1.Country == 'Israel']\n",
    "df1.drop(['Region','City', 'Month', 'Day', 'Year','Country'], axis=1, inplace=True)"
   ]
  },
  {
   "cell_type": "code",
   "execution_count": 30,
   "metadata": {},
   "outputs": [
    {
     "data": {
      "text/html": [
       "<div>\n",
       "<style scoped>\n",
       "    .dataframe tbody tr th:only-of-type {\n",
       "        vertical-align: middle;\n",
       "    }\n",
       "\n",
       "    .dataframe tbody tr th {\n",
       "        vertical-align: top;\n",
       "    }\n",
       "\n",
       "    .dataframe thead th {\n",
       "        text-align: right;\n",
       "    }\n",
       "</style>\n",
       "<table border=\"1\" class=\"dataframe\">\n",
       "  <thead>\n",
       "    <tr style=\"text-align: right;\">\n",
       "      <th></th>\n",
       "      <th>AvgTemperatureF</th>\n",
       "      <th>date</th>\n",
       "    </tr>\n",
       "  </thead>\n",
       "  <tbody>\n",
       "    <tr>\n",
       "      <th>1014633</th>\n",
       "      <td>57.3</td>\n",
       "      <td>1995-01-01</td>\n",
       "    </tr>\n",
       "    <tr>\n",
       "      <th>1014634</th>\n",
       "      <td>56.1</td>\n",
       "      <td>1995-01-02</td>\n",
       "    </tr>\n",
       "    <tr>\n",
       "      <th>1014635</th>\n",
       "      <td>55.9</td>\n",
       "      <td>1995-01-03</td>\n",
       "    </tr>\n",
       "    <tr>\n",
       "      <th>1014636</th>\n",
       "      <td>56.9</td>\n",
       "      <td>1995-01-04</td>\n",
       "    </tr>\n",
       "    <tr>\n",
       "      <th>1014637</th>\n",
       "      <td>56.6</td>\n",
       "      <td>1995-01-05</td>\n",
       "    </tr>\n",
       "    <tr>\n",
       "      <th>...</th>\n",
       "      <td>...</td>\n",
       "      <td>...</td>\n",
       "    </tr>\n",
       "    <tr>\n",
       "      <th>1019269</th>\n",
       "      <td>79.5</td>\n",
       "      <td>2007-09-11</td>\n",
       "    </tr>\n",
       "    <tr>\n",
       "      <th>1019270</th>\n",
       "      <td>79.7</td>\n",
       "      <td>2007-09-12</td>\n",
       "    </tr>\n",
       "    <tr>\n",
       "      <th>1019271</th>\n",
       "      <td>79.7</td>\n",
       "      <td>2007-09-13</td>\n",
       "    </tr>\n",
       "    <tr>\n",
       "      <th>1019272</th>\n",
       "      <td>79.6</td>\n",
       "      <td>2007-09-14</td>\n",
       "    </tr>\n",
       "    <tr>\n",
       "      <th>1019273</th>\n",
       "      <td>80.0</td>\n",
       "      <td>2007-09-15</td>\n",
       "    </tr>\n",
       "  </tbody>\n",
       "</table>\n",
       "<p>4196 rows × 2 columns</p>\n",
       "</div>"
      ],
      "text/plain": [
       "         AvgTemperatureF       date\n",
       "1014633             57.3 1995-01-01\n",
       "1014634             56.1 1995-01-02\n",
       "1014635             55.9 1995-01-03\n",
       "1014636             56.9 1995-01-04\n",
       "1014637             56.6 1995-01-05\n",
       "...                  ...        ...\n",
       "1019269             79.5 2007-09-11\n",
       "1019270             79.7 2007-09-12\n",
       "1019271             79.7 2007-09-13\n",
       "1019272             79.6 2007-09-14\n",
       "1019273             80.0 2007-09-15\n",
       "\n",
       "[4196 rows x 2 columns]"
      ]
     },
     "execution_count": 30,
     "metadata": {},
     "output_type": "execute_result"
    }
   ],
   "source": [
    "df1.sort_values(by=['date'])"
   ]
  },
  {
   "cell_type": "code",
   "execution_count": 31,
   "metadata": {},
   "outputs": [
    {
     "data": {
      "text/html": [
       "<style  type=\"text/css\" >\n",
       "#T_67dc13ec_0d32_11ee_ba11_acde48001122row0_col0,#T_67dc13ec_0d32_11ee_ba11_acde48001122row1_col0,#T_67dc13ec_0d32_11ee_ba11_acde48001122row2_col0,#T_67dc13ec_0d32_11ee_ba11_acde48001122row3_col0,#T_67dc13ec_0d32_11ee_ba11_acde48001122row4_col0{\n",
       "            background-color:  dodgerblue;\n",
       "        }</style><table id=\"T_67dc13ec_0d32_11ee_ba11_acde48001122\" ><thead>    <tr>        <th class=\"blank level0\" ></th>        <th class=\"col_heading level0 col0\" >AvgTemperatureF</th>    </tr>    <tr>        <th class=\"index_name level0\" >date</th>        <th class=\"blank\" ></th>    </tr></thead><tbody>\n",
       "                <tr>\n",
       "                        <th id=\"T_67dc13ec_0d32_11ee_ba11_acde48001122level0_row0\" class=\"row_heading level0 row0\" >1995-01-01 00:00:00</th>\n",
       "                        <td id=\"T_67dc13ec_0d32_11ee_ba11_acde48001122row0_col0\" class=\"data row0 col0\" >57.300000</td>\n",
       "            </tr>\n",
       "            <tr>\n",
       "                        <th id=\"T_67dc13ec_0d32_11ee_ba11_acde48001122level0_row1\" class=\"row_heading level0 row1\" >1995-01-02 00:00:00</th>\n",
       "                        <td id=\"T_67dc13ec_0d32_11ee_ba11_acde48001122row1_col0\" class=\"data row1 col0\" >56.100000</td>\n",
       "            </tr>\n",
       "            <tr>\n",
       "                        <th id=\"T_67dc13ec_0d32_11ee_ba11_acde48001122level0_row2\" class=\"row_heading level0 row2\" >1995-01-03 00:00:00</th>\n",
       "                        <td id=\"T_67dc13ec_0d32_11ee_ba11_acde48001122row2_col0\" class=\"data row2 col0\" >55.900000</td>\n",
       "            </tr>\n",
       "            <tr>\n",
       "                        <th id=\"T_67dc13ec_0d32_11ee_ba11_acde48001122level0_row3\" class=\"row_heading level0 row3\" >1995-01-04 00:00:00</th>\n",
       "                        <td id=\"T_67dc13ec_0d32_11ee_ba11_acde48001122row3_col0\" class=\"data row3 col0\" >56.900000</td>\n",
       "            </tr>\n",
       "            <tr>\n",
       "                        <th id=\"T_67dc13ec_0d32_11ee_ba11_acde48001122level0_row4\" class=\"row_heading level0 row4\" >1995-01-05 00:00:00</th>\n",
       "                        <td id=\"T_67dc13ec_0d32_11ee_ba11_acde48001122row4_col0\" class=\"data row4 col0\" >56.600000</td>\n",
       "            </tr>\n",
       "    </tbody></table>"
      ],
      "text/plain": [
       "<pandas.io.formats.style.Styler at 0x7facc0f892e0>"
      ]
     },
     "execution_count": 31,
     "metadata": {},
     "output_type": "execute_result"
    }
   ],
   "source": [
    "new_cols = [\"date\",\"AvgTemperatureF\"]\n",
    "df2=df1[new_cols]\n",
    "df2=df2[(df2['date'] < \"2007-01-01\")]\n",
    "df2 = df2.set_index('date')\n",
    "\n",
    "df2.head().style.set_properties(subset=['AvgTemperatureF'], **{'background-color': 'dodgerblue'})"
   ]
  },
  {
   "cell_type": "code",
   "execution_count": 32,
   "metadata": {},
   "outputs": [
    {
     "data": {
      "image/png": "[encoded data removed]",
      "text/plain": [
       "<Figure size 432x288 with 1 Axes>"
      ]
     },
     "metadata": {},
     "output_type": "display_data"
    }
   ],
   "source": [
    "plot_acf(df2)\n",
    "pyplot.show()"
   ]
  },
  {
   "cell_type": "code",
   "execution_count": 33,
   "metadata": {},
   "outputs": [
    {
     "data": {
      "image/png": "[encoded data removed]",
      "text/plain": [
       "<Figure size 432x288 with 1 Axes>"
      ]
     },
     "metadata": {},
     "output_type": "display_data"
    }
   ],
   "source": [
    "plot_pacf(df2, lags=50)\n",
    "pyplot.show()"
   ]
  },
  {
   "cell_type": "code",
   "execution_count": 34,
   "metadata": {},
   "outputs": [
    {
     "data": {
      "image/png": "[encoded data removed]",
      "text/plain": [
       "<Figure size 432x288 with 4 Axes>"
      ]
     },
     "metadata": {},
     "output_type": "display_data"
    }
   ],
   "source": [
    "seasonal_decompose(df2,period=365).plot()\n",
    "plt.show()"
   ]
  },
  {
   "cell_type": "markdown",
   "metadata": {},
   "source": [
    "Time series Tel-Aviv daily temprature between 1995-2007"
   ]
  },
  {
   "cell_type": "code",
   "execution_count": 35,
   "metadata": {},
   "outputs": [
    {
     "data": {
      "text/html": [
       "<iframe\n",
       "    scrolling=\"no\"\n",
       "    width=\"100%\"\n",
       "    height=\"545px\"\n",
       "    src=\"iframe_figures/figure_35.html\"\n",
       "    frameborder=\"0\"\n",
       "    allowfullscreen\n",
       "></iframe>\n"
      ]
     },
     "metadata": {},
     "output_type": "display_data"
    }
   ],
   "source": [
    "px.line(data_frame=df2,color_discrete_sequence=['cornflowerblue'],title=\"Daily Average Temperature - Tel-Aviv (1995-2007)\")"
   ]
  },
  {
   "cell_type": "markdown",
   "metadata": {},
   "source": [
    "Decompose function for the time series to seperate trand & seasonal"
   ]
  },
  {
   "cell_type": "code",
   "execution_count": 36,
   "metadata": {},
   "outputs": [
    {
     "data": {
      "image/png": "[encoded data removed]",
      "text/plain": [
       "<Figure size 432x288 with 4 Axes>"
      ]
     },
     "metadata": {},
     "output_type": "display_data"
    }
   ],
   "source": [
    "decompose = seasonal_decompose(df2,period=365)\n",
    "decompose.plot();"
   ]
  },
  {
   "cell_type": "markdown",
   "metadata": {},
   "source": [
    "Non-Stationary Time Series\n",
    "\n",
    "Observations from a non-stationary time series show seasonal effects, trends, and other structures that depend on the time index.\n",
    "\n",
    "Summary statistics like the mean and variance do change over time, providing a drift in the concepts a model may try to capture.\n",
    "https://towardsdatascience.com/exploring-the-lstm-neural-network-model-for-time-series-8b7685aa8cf\n"
   ]
  },
  {
   "cell_type": "code",
   "execution_count": 37,
   "metadata": {},
   "outputs": [
    {
     "data": {
      "text/html": [
       "<iframe\n",
       "    scrolling=\"no\"\n",
       "    width=\"100%\"\n",
       "    height=\"545px\"\n",
       "    src=\"iframe_figures/figure_37.html\"\n",
       "    frameborder=\"0\"\n",
       "    allowfullscreen\n",
       "></iframe>\n"
      ]
     },
     "metadata": {},
     "output_type": "display_data"
    }
   ],
   "source": [
    "roll_mean = df2.rolling(window=31).std()\n",
    "roll_mean2 = df2.rolling(window=365).std()\n",
    "fig = go.Figure()\n",
    "fig.add_trace(go.Scatter(x=roll_mean.index,y=roll_mean['AvgTemperatureF'],marker=dict(color='red'),name='31DaysRolling'))\n",
    "fig.add_trace(go.Scatter(x=roll_mean2.index,y=roll_mean2['AvgTemperatureF'],marker=dict(color='green'),name='365DaysRolling'))\n",
    "fig.update_layout(dict(title='Standard deviation on a timeline'))"
   ]
  },
  {
   "cell_type": "markdown",
   "metadata": {},
   "source": [
    "Dickey Fuller test to verify the stationarity | \n",
    "H0: The time series data is non stationary | p-value > 0.05: Fail to reject the null hypothesis (H0), the data has a unit root and is non-stationary.\n",
    "p-value <= 0.05: Reject the null hypothesis (H0), the data does not have a unit root and is stationary.\n"
   ]
  },
  {
   "cell_type": "markdown",
   "metadata": {},
   "source": [
    "https://machinelearningmastery.com/time-series-data-stationary-python/"
   ]
  },
  {
   "cell_type": "code",
   "execution_count": 38,
   "metadata": {},
   "outputs": [
    {
     "name": "stdout",
     "output_type": "stream",
     "text": [
      "P-value: 0.00012166589141908962\n",
      "ADF: -4.614082360008789\n",
      "Critical_values: {'1%': -3.4320222706340395, '5%': -2.8622789176205625, '10%': -2.5671633344910636}\n"
     ]
    }
   ],
   "source": [
    "adf = adfuller(x=df2['AvgTemperatureF'])\n",
    "print('P-value:',adf[1])\n",
    "print('ADF:',adf[0])\n",
    "print('Critical_values:',adf[4])"
   ]
  },
  {
   "cell_type": "markdown",
   "metadata": {},
   "source": [
    "The pvalue is very small, close to 0. The data is stationary\n",
    "\n"
   ]
  },
  {
   "cell_type": "markdown",
   "metadata": {},
   "source": [
    "# Models & Evaluation"
   ]
  },
  {
   "cell_type": "markdown",
   "metadata": {},
   "source": [
    "LSTM MODEL"
   ]
  },
  {
   "cell_type": "code",
   "execution_count": 80,
   "metadata": {},
   "outputs": [
    {
     "data": {
      "text/html": [
       "<div>\n",
       "<style scoped>\n",
       "    .dataframe tbody tr th:only-of-type {\n",
       "        vertical-align: middle;\n",
       "    }\n",
       "\n",
       "    .dataframe tbody tr th {\n",
       "        vertical-align: top;\n",
       "    }\n",
       "\n",
       "    .dataframe thead th {\n",
       "        text-align: right;\n",
       "    }\n",
       "</style>\n",
       "<table border=\"1\" class=\"dataframe\">\n",
       "  <thead>\n",
       "    <tr style=\"text-align: right;\">\n",
       "      <th></th>\n",
       "      <th>AvgTemperatureF</th>\n",
       "    </tr>\n",
       "    <tr>\n",
       "      <th>date</th>\n",
       "      <th></th>\n",
       "    </tr>\n",
       "  </thead>\n",
       "  <tbody>\n",
       "    <tr>\n",
       "      <th>1995-01-01</th>\n",
       "      <td>0.281106</td>\n",
       "    </tr>\n",
       "    <tr>\n",
       "      <th>1995-01-02</th>\n",
       "      <td>0.253456</td>\n",
       "    </tr>\n",
       "    <tr>\n",
       "      <th>1995-01-03</th>\n",
       "      <td>0.248848</td>\n",
       "    </tr>\n",
       "    <tr>\n",
       "      <th>1995-01-04</th>\n",
       "      <td>0.271889</td>\n",
       "    </tr>\n",
       "    <tr>\n",
       "      <th>1995-01-05</th>\n",
       "      <td>0.264977</td>\n",
       "    </tr>\n",
       "    <tr>\n",
       "      <th>...</th>\n",
       "      <td>...</td>\n",
       "    </tr>\n",
       "    <tr>\n",
       "      <th>2006-12-24</th>\n",
       "      <td>0.269585</td>\n",
       "    </tr>\n",
       "    <tr>\n",
       "      <th>2006-12-26</th>\n",
       "      <td>0.246544</td>\n",
       "    </tr>\n",
       "    <tr>\n",
       "      <th>2006-12-29</th>\n",
       "      <td>0.103687</td>\n",
       "    </tr>\n",
       "    <tr>\n",
       "      <th>2006-12-30</th>\n",
       "      <td>0.184332</td>\n",
       "    </tr>\n",
       "    <tr>\n",
       "      <th>2006-12-31</th>\n",
       "      <td>0.170507</td>\n",
       "    </tr>\n",
       "  </tbody>\n",
       "</table>\n",
       "<p>3945 rows × 1 columns</p>\n",
       "</div>"
      ],
      "text/plain": [
       "            AvgTemperatureF\n",
       "date                       \n",
       "1995-01-01         0.281106\n",
       "1995-01-02         0.253456\n",
       "1995-01-03         0.248848\n",
       "1995-01-04         0.271889\n",
       "1995-01-05         0.264977\n",
       "...                     ...\n",
       "2006-12-24         0.269585\n",
       "2006-12-26         0.246544\n",
       "2006-12-29         0.103687\n",
       "2006-12-30         0.184332\n",
       "2006-12-31         0.170507\n",
       "\n",
       "[3945 rows x 1 columns]"
      ]
     },
     "execution_count": 80,
     "metadata": {},
     "output_type": "execute_result"
    }
   ],
   "source": [
    "df2"
   ]
  },
  {
   "cell_type": "code",
   "execution_count": 81,
   "metadata": {},
   "outputs": [],
   "source": [
    "test = df2[df2.index>'2006']\n",
    "train = df2[df2.index<'2006']"
   ]
  },
  {
   "cell_type": "code",
   "execution_count": 82,
   "metadata": {},
   "outputs": [
    {
     "name": "stdout",
     "output_type": "stream",
     "text": [
      "3616\n"
     ]
    },
    {
     "data": {
      "text/plain": [
       "329"
      ]
     },
     "execution_count": 82,
     "metadata": {},
     "output_type": "execute_result"
    }
   ],
   "source": [
    "print(train.size)\n",
    "test.size"
   ]
  },
  {
   "cell_type": "code",
   "execution_count": 83,
   "metadata": {},
   "outputs": [],
   "source": [
    "scaler = MinMaxScaler()\n",
    "train = scaler.fit_transform(train)\n",
    "test = scaler.transform(test)"
   ]
  },
  {
   "cell_type": "code",
   "execution_count": 84,
   "metadata": {},
   "outputs": [],
   "source": [
    "time_steps = 20\n",
    "features = 1\n",
    "\n",
    "train_gen = TimeseriesGenerator(train,train,time_steps,batch_size=4)\n",
    "test_gen = TimeseriesGenerator(test,test,time_steps,batch_size=4)"
   ]
  },
  {
   "cell_type": "code",
   "execution_count": 89,
   "metadata": {},
   "outputs": [
    {
     "name": "stdout",
     "output_type": "stream",
     "text": [
      "Model: \"sequential_6\"\n",
      "_________________________________________________________________\n",
      " Layer (type)                Output Shape              Param #   \n",
      "=================================================================\n",
      " lstm_12 (LSTM)              (None, 20, 365)           535820    \n",
      "                                                                 \n",
      " lstm_13 (LSTM)              (None, 32)                50944     \n",
      "                                                                 \n",
      " dense_6 (Dense)             (None, 1)                 33        \n",
      "                                                                 \n",
      "=================================================================\n",
      "Total params: 586,797\n",
      "Trainable params: 586,797\n",
      "Non-trainable params: 0\n",
      "_________________________________________________________________\n"
     ]
    }
   ],
   "source": [
    "from tensorflow.keras.optimizers import SGD\n",
    "\n",
    "model = Sequential()\n",
    "model.add(LSTM(365,activation='relu',input_shape=(time_steps,features),return_sequences=True))\n",
    "model.add(LSTM(32,activation='relu'))\n",
    "model.add(Dense(1,activation='relu'))\n",
    "\n",
    "# Set the optimizer to SGD\n",
    "learning_rate = 0.001  # Specify your desired learning rate\n",
    "optimizer = SGD(learning_rate=learning_rate)\n",
    "\n",
    "model.compile(optimizer=optimizer, loss='mse')\n",
    "\n",
    "#model.compile(optimizer='adam',loss='mse')\n",
    "\n",
    "model.summary()"
   ]
  },
  {
   "cell_type": "code",
   "execution_count": 90,
   "metadata": {},
   "outputs": [
    {
     "data": {
      "image/png": "[encoded data removed]",
      "text/plain": [
       "<IPython.core.display.Image object>"
      ]
     },
     "execution_count": 90,
     "metadata": {},
     "output_type": "execute_result"
    }
   ],
   "source": [
    "from keras.utils.vis_utils import plot_model\n",
    "plot_model(model, to_file='model_plot.png', show_shapes=True, show_layer_names=True)"
   ]
  },
  {
   "cell_type": "code",
   "execution_count": 91,
   "metadata": {},
   "outputs": [],
   "source": [
    "early_stop = EarlyStopping(patience=5)"
   ]
  },
  {
   "cell_type": "code",
   "execution_count": 92,
   "metadata": {},
   "outputs": [
    {
     "name": "stdout",
     "output_type": "stream",
     "text": [
      "Collecting git+https://github.com/paulgavrikov/visualkeras\n",
      "  Cloning https://github.com/paulgavrikov/visualkeras to /private/var/folders/qq/247gkld9091fw63mm4d755yr0000gn/T/pip-req-build-iq6mw_r7\n",
      "  Running command git clone --filter=blob:none --quiet https://github.com/paulgavrikov/visualkeras /private/var/folders/qq/247gkld9091fw63mm4d755yr0000gn/T/pip-req-build-iq6mw_r7\n",
      "  Resolved https://github.com/paulgavrikov/visualkeras to commit cd169b81be347e2090353ad6fe2bd2e1f4020cf4\n",
      "  Preparing metadata (setup.py) ... \u001b[?25ldone\n",
      "\u001b[?25hRequirement already satisfied: pillow>=6.2.0 in /Users/idanvazana/opt/anaconda3/lib/python3.8/site-packages (from visualkeras==0.0.2) (8.0.1)\n",
      "Requirement already satisfied: numpy>=1.18.1 in /Users/idanvazana/opt/anaconda3/lib/python3.8/site-packages (from visualkeras==0.0.2) (1.23.5)\n",
      "Requirement already satisfied: aggdraw>=1.3.11 in /Users/idanvazana/opt/anaconda3/lib/python3.8/site-packages (from visualkeras==0.0.2) (1.3.16)\n",
      "Note: you may need to restart the kernel to use updated packages.\n"
     ]
    }
   ],
   "source": [
    "pip install git+https://github.com/paulgavrikov/visualkeras --upgrade\n"
   ]
  },
  {
   "cell_type": "code",
   "execution_count": 93,
   "metadata": {},
   "outputs": [
    {
     "name": "stdout",
     "output_type": "stream",
     "text": [
      "Epoch 1/4\n",
      "899/899 [==============================] - 42s 44ms/step - loss: 0.0584 - val_loss: 0.0197\n",
      "Epoch 2/4\n",
      "899/899 [==============================] - 43s 47ms/step - loss: 0.0220 - val_loss: 0.0167\n",
      "Epoch 3/4\n",
      "899/899 [==============================] - 43s 48ms/step - loss: 0.0182 - val_loss: 0.0142\n",
      "Epoch 4/4\n",
      "899/899 [==============================] - 44s 49ms/step - loss: 0.0149 - val_loss: 0.0112\n"
     ]
    }
   ],
   "source": [
    "model.fit(x=train_gen,epochs=4,callbacks=[early_stop],validation_data=test_gen)\n",
    "\n",
    "#Save the model\n",
    "model.save('LSTMAvgTemp.h5')"
   ]
  },
  {
   "cell_type": "code",
   "execution_count": 94,
   "metadata": {},
   "outputs": [
    {
     "name": "stdout",
     "output_type": "stream",
     "text": [
      "78/78 [==============================] - 1s 13ms/step\n"
     ]
    }
   ],
   "source": [
    "predict = model.predict(test_gen)\n",
    "test_targets = test_gen.targets[test_gen.start_index:test_gen.end_index+1]"
   ]
  },
  {
   "cell_type": "code",
   "execution_count": 95,
   "metadata": {},
   "outputs": [],
   "source": [
    "predict = scaler.inverse_transform(predict).ravel()\n",
    "test_targets = scaler.inverse_transform(test_targets).ravel()"
   ]
  },
  {
   "cell_type": "code",
   "execution_count": 96,
   "metadata": {},
   "outputs": [
    {
     "data": {
      "image/png": "[encoded data removed]",
      "text/plain": [
       "<Figure size 864x576 with 1 Axes>"
      ]
     },
     "metadata": {},
     "output_type": "display_data"
    }
   ],
   "source": [
    "_,ax=plt.subplots(1,1,figsize=(12,8))\n",
    "sns.lineplot(x=range(len(predict)),y=predict,ax=ax,label='Predictions')\n",
    "sns.lineplot(x=range(len(test_targets)),y=test_targets,ax=ax,label='Actual')\n",
    "plt.legend()\n",
    "_=plt.title('Comparison - Predictions vs Actual Target Temperatures in Israel, TLV 2007')"
   ]
  },
  {
   "cell_type": "code",
   "execution_count": 97,
   "metadata": {},
   "outputs": [
    {
     "name": "stdout",
     "output_type": "stream",
     "text": [
      "The RMSE Score is: 0.11\n",
      "The RMSE Score is: 0.11\n",
      "Mean Absolute Error (MAE): 0.09023200443972784\n",
      "R-squared (R²) or Coefficient of Determination: 0.6974916020369626\n"
     ]
    }
   ],
   "source": [
    "print('The RMSE Score is:',format(np.sqrt(mean_squared_error(predict,test_targets)),'.2f'))\n",
    "# Calculate RMSE score:\n",
    "print('The RMSE Score is:',format(np.sqrt(mean_squared_error(predict, test_targets)),'.2f'))\n",
    "# Calculate Mean Absolute Error (MAE)\n",
    "mae = mean_absolute_error(test_targets, predict)\n",
    "print(\"Mean Absolute Error (MAE):\", mae)\n",
    "\n",
    "# Calculate R-squared (R²) or Coefficient of Determination\n",
    "r_squared = r2_score(test_targets, predict)\n",
    "print(\"R-squared (R²) or Coefficient of Determination:\", r_squared)"
   ]
  },
  {
   "cell_type": "code",
   "execution_count": null,
   "metadata": {},
   "outputs": [],
   "source": []
  },
  {
   "cell_type": "code",
   "execution_count": 98,
   "metadata": {},
   "outputs": [
    {
     "name": "stderr",
     "output_type": "stream",
     "text": [
      "/Users/idanvazana/opt/anaconda3/lib/python3.8/site-packages/sklearn/base.py:420: UserWarning:\n",
      "\n",
      "X does not have valid feature names, but MinMaxScaler was fitted with feature names\n",
      "\n"
     ]
    },
    {
     "name": "stdout",
     "output_type": "stream",
     "text": [
      "1/1 [==============================] - 0s 362ms/step\n",
      "1/1 [==============================] - 0s 34ms/step\n",
      "1/1 [==============================] - 0s 31ms/step\n",
      "1/1 [==============================] - 0s 30ms/step\n",
      "1/1 [==============================] - 0s 29ms/step\n",
      "1/1 [==============================] - 0s 29ms/step\n",
      "1/1 [==============================] - 0s 29ms/step\n",
      "1/1 [==============================] - 0s 29ms/step\n",
      "1/1 [==============================] - 0s 33ms/step\n",
      "1/1 [==============================] - 0s 39ms/step\n"
     ]
    }
   ],
   "source": [
    "data = df2.iloc[-time_steps:].to_numpy() #2D Array\n",
    "data = scaler.transform(data)\n",
    "\n",
    "#expand to include batch dimension\n",
    "data = np.expand_dims(data,0)\n",
    "\n",
    "#record the last date of observartion from the data\n",
    "date = df2.index[-1]\n",
    "\n",
    "date_store = df2.iloc[-time_steps:].index.to_list()\n",
    "\n",
    "#forecasting\n",
    "forecasts=10\n",
    "for i in range(forecasts):\n",
    "    predicted = model.predict(data[:,-20:,:])\n",
    "    date = date+datetime.timedelta(days=1)\n",
    "    data = np.append(data,[predicted],axis=1)\n",
    "    date_store.append(date)\n",
    "data = scaler.inverse_transform(data.reshape(1,-1))\n",
    "forecast_df = pd.DataFrame(index=date_store[time_steps-1:],data={'AvgTemperatureF':data.ravel()[time_steps-1:]})"
   ]
  },
  {
   "cell_type": "code",
   "execution_count": 99,
   "metadata": {},
   "outputs": [
    {
     "data": {
      "text/html": [
       "<div>\n",
       "<style scoped>\n",
       "    .dataframe tbody tr th:only-of-type {\n",
       "        vertical-align: middle;\n",
       "    }\n",
       "\n",
       "    .dataframe tbody tr th {\n",
       "        vertical-align: top;\n",
       "    }\n",
       "\n",
       "    .dataframe thead th {\n",
       "        text-align: right;\n",
       "    }\n",
       "</style>\n",
       "<table border=\"1\" class=\"dataframe\">\n",
       "  <thead>\n",
       "    <tr style=\"text-align: right;\">\n",
       "      <th></th>\n",
       "      <th>AvgTemperatureF</th>\n",
       "    </tr>\n",
       "  </thead>\n",
       "  <tbody>\n",
       "    <tr>\n",
       "      <th>2006-12-31</th>\n",
       "      <td>0.170507</td>\n",
       "    </tr>\n",
       "    <tr>\n",
       "      <th>2007-01-01</th>\n",
       "      <td>0.427179</td>\n",
       "    </tr>\n",
       "    <tr>\n",
       "      <th>2007-01-02</th>\n",
       "      <td>0.424521</td>\n",
       "    </tr>\n",
       "    <tr>\n",
       "      <th>2007-01-03</th>\n",
       "      <td>0.426584</td>\n",
       "    </tr>\n",
       "    <tr>\n",
       "      <th>2007-01-04</th>\n",
       "      <td>0.431556</td>\n",
       "    </tr>\n",
       "    <tr>\n",
       "      <th>2007-01-05</th>\n",
       "      <td>0.437417</td>\n",
       "    </tr>\n",
       "    <tr>\n",
       "      <th>2007-01-06</th>\n",
       "      <td>0.444471</td>\n",
       "    </tr>\n",
       "    <tr>\n",
       "      <th>2007-01-07</th>\n",
       "      <td>0.452012</td>\n",
       "    </tr>\n",
       "    <tr>\n",
       "      <th>2007-01-08</th>\n",
       "      <td>0.459609</td>\n",
       "    </tr>\n",
       "    <tr>\n",
       "      <th>2007-01-09</th>\n",
       "      <td>0.467236</td>\n",
       "    </tr>\n",
       "    <tr>\n",
       "      <th>2007-01-10</th>\n",
       "      <td>0.474684</td>\n",
       "    </tr>\n",
       "  </tbody>\n",
       "</table>\n",
       "</div>"
      ],
      "text/plain": [
       "            AvgTemperatureF\n",
       "2006-12-31         0.170507\n",
       "2007-01-01         0.427179\n",
       "2007-01-02         0.424521\n",
       "2007-01-03         0.426584\n",
       "2007-01-04         0.431556\n",
       "2007-01-05         0.437417\n",
       "2007-01-06         0.444471\n",
       "2007-01-07         0.452012\n",
       "2007-01-08         0.459609\n",
       "2007-01-09         0.467236\n",
       "2007-01-10         0.474684"
      ]
     },
     "execution_count": 99,
     "metadata": {},
     "output_type": "execute_result"
    }
   ],
   "source": [
    "forecast_df"
   ]
  },
  {
   "cell_type": "code",
   "execution_count": 100,
   "metadata": {},
   "outputs": [
    {
     "data": {
      "image/png": "[encoded data removed]",
      "text/plain": [
       "<Figure size 864x576 with 1 Axes>"
      ]
     },
     "metadata": {},
     "output_type": "display_data"
    }
   ],
   "source": [
    "_,ax=plt.subplots(1,1,figsize=(12,8))\n",
    "sns.lineplot(data=df2.iloc[-100:,:],y='AvgTemperatureF',x=df2.iloc[-100:,:].index,color='blue',ax=ax,label='AvgTemp - 2006 end')\n",
    "sns.lineplot(data=forecast_df,y='AvgTemperatureF',x=forecast_df.index,color='red',ax=ax,label= 'AvgTemp - 2007 forecasted')\n",
    "_=plt.title(f'Temperature Forecasting - {forecasts} days (2007)')"
   ]
  },
  {
   "cell_type": "markdown",
   "metadata": {},
   "source": [
    "Bi-LSTM Model"
   ]
  },
  {
   "cell_type": "code",
   "execution_count": 101,
   "metadata": {},
   "outputs": [],
   "source": [
    "# Assuming  dataframe 'df2' has two columns: 'date' and 'average temperature'\n",
    "\n",
    "# Preprocessing: Scaling the data\n",
    "scaler = MinMaxScaler()\n",
    "df2['AvgTemperatureF'] = scaler.fit_transform(df2['AvgTemperatureF'].values.reshape(-1, 1))\n",
    "\n",
    "# Train-test split\n",
    "train_size = int(len(df2) * 0.9)  # 90% for training, 10% for testing\n",
    "train_data = df2[:train_size]\n",
    "test_data = df2[train_size:]\n",
    "\n",
    "# Prepare data for BiLSTM\n",
    "time_steps = 20  # Number of previous time steps to consider\n",
    "features = 1  # Number of features (temperature column)\n",
    "\n",
    "train_gen = TimeseriesGenerator(train_data['AvgTemperatureF'].values, train_data['AvgTemperatureF'].values,\n",
    "                               length=time_steps, batch_size=4)\n",
    "test_gen = TimeseriesGenerator(test_data['AvgTemperatureF'].values, test_data['AvgTemperatureF'].values,\n",
    "                              length=time_steps, batch_size=4)\n",
    "\n"
   ]
  },
  {
   "cell_type": "code",
   "execution_count": 102,
   "metadata": {},
   "outputs": [
    {
     "name": "stdout",
     "output_type": "stream",
     "text": [
      "Model: \"sequential_7\"\n",
      "_________________________________________________________________\n",
      " Layer (type)                Output Shape              Param #   \n",
      "=================================================================\n",
      " bidirectional_2 (Bidirectio  (None, 20, 730)          1071640   \n",
      " nal)                                                            \n",
      "                                                                 \n",
      " bidirectional_3 (Bidirectio  (None, 64)               195328    \n",
      " nal)                                                            \n",
      "                                                                 \n",
      " dense_7 (Dense)             (None, 1)                 65        \n",
      "                                                                 \n",
      "=================================================================\n",
      "Total params: 1,267,033\n",
      "Trainable params: 1,267,033\n",
      "Non-trainable params: 0\n",
      "_________________________________________________________________\n"
     ]
    }
   ],
   "source": [
    "# BiLSTM model\n",
    "model = Sequential()\n",
    "model.add(Bidirectional(LSTM(365, activation='relu', return_sequences=True), input_shape=(time_steps, features)))\n",
    "model.add(Bidirectional(LSTM(32, activation='relu')))\n",
    "model.add(Dense(1))\n",
    "model.compile(optimizer='adam', loss='mse')\n",
    "model.summary()\n"
   ]
  },
  {
   "cell_type": "code",
   "execution_count": 103,
   "metadata": {},
   "outputs": [
    {
     "name": "stdout",
     "output_type": "stream",
     "text": [
      "Epoch 1/4\n",
      "883/883 [==============================] - 93s 99ms/step - loss: 0.0082 - val_loss: 0.0044\n",
      "Epoch 2/4\n",
      "883/883 [==============================] - 88s 100ms/step - loss: 0.0046 - val_loss: 0.0037\n",
      "Epoch 3/4\n",
      "883/883 [==============================] - 88s 100ms/step - loss: 0.0039 - val_loss: 0.0045\n",
      "Epoch 4/4\n",
      "883/883 [==============================] - 111s 126ms/step - loss: 0.0037 - val_loss: 0.0038\n"
     ]
    },
    {
     "data": {
      "text/plain": [
       "<keras.callbacks.History at 0x7facad958a30>"
      ]
     },
     "execution_count": 103,
     "metadata": {},
     "output_type": "execute_result"
    }
   ],
   "source": [
    "# Model training\n",
    "early_stop = EarlyStopping(patience=5)\n",
    "model.fit(x=train_gen, epochs=4, callbacks=[early_stop], validation_data=test_gen)\n"
   ]
  },
  {
   "cell_type": "code",
   "execution_count": 104,
   "metadata": {},
   "outputs": [
    {
     "name": "stdout",
     "output_type": "stream",
     "text": [
      "375/375 [==============================] - 6s 14ms/step\n"
     ]
    },
    {
     "data": {
      "image/png": "[encoded data removed]",
      "text/plain": [
       "<Figure size 432x288 with 1 Axes>"
      ]
     },
     "metadata": {},
     "output_type": "display_data"
    }
   ],
   "source": [
    "# Prediction\n",
    "test_gen = TimeseriesGenerator(test_data['AvgTemperatureF'].values, test_data['AvgTemperatureF'].values,\n",
    "                              length=time_steps, batch_size=1)  # Use batch_size=1 for individual predictions\n",
    "#test_targets = test_gen.targets[test_gen.start_index:test_gen.end_index+1]\n",
    "\n",
    "#predictions = model.predict(test_gen)\n",
    "\n",
    "predict = model.predict(test_gen)\n",
    "test_targets = test_gen.targets[test_gen.start_index:test_gen.end_index+1].reshape(-1, 1)\n",
    "\n",
    "predict = scaler.inverse_transform(predict).ravel()\n",
    "test_targets = scaler.inverse_transform(test_targets).ravel()\n",
    "\n",
    "# Rescale predictions and actual values\n",
    "#predictions = scaler.inverse_transform(predictions).ravel()\n",
    "#actual_values = scaler.inverse_transform(test_data['AvgTemperatureF'].values.reshape(-1, 1)).ravel()\n",
    "\n",
    "# Plotting predictions vs actual values\n",
    "plt.plot(predict, label='Predictions')\n",
    "plt.plot(test_targets, label='Actual')\n",
    "plt.xlabel('Date')\n",
    "plt.ylabel('AvgTemperatureF')\n",
    "plt.title('BiLSTM Predictions vs Actual Values')\n",
    "plt.legend()\n",
    "plt.show()"
   ]
  },
  {
   "cell_type": "code",
   "execution_count": 105,
   "metadata": {},
   "outputs": [
    {
     "name": "stdout",
     "output_type": "stream",
     "text": [
      "The RMSE Score is: 0.06\n",
      "Mean Absolute Error (MAE): 0.042264063309597685\n",
      "R-squared (R²) or Coefficient of Determination: 0.9053920831085718\n"
     ]
    }
   ],
   "source": [
    "# Calculate RMSE score:\n",
    "print('The RMSE Score is:',format(np.sqrt(mean_squared_error(predict, test_targets)),'.2f'))\n",
    "# Calculate Mean Absolute Error (MAE)\n",
    "mae = mean_absolute_error(test_targets, predict)\n",
    "print(\"Mean Absolute Error (MAE):\", mae)\n",
    "\n",
    "# Calculate R-squared (R²) or Coefficient of Determination\n",
    "r_squared = r2_score(test_targets, predict)\n",
    "print(\"R-squared (R²) or Coefficient of Determination:\", r_squared)"
   ]
  },
  {
   "cell_type": "code",
   "execution_count": null,
   "metadata": {},
   "outputs": [],
   "source": []
  }
 ],
 "metadata": {
  "kernelspec": {
   "display_name": "Python 3",
   "language": "python",
   "name": "python3"
  },
  "language_info": {
   "codemirror_mode": {
    "name": "ipython",
    "version": 3
   },
   "file_extension": ".py",
   "mimetype": "text/x-python",
   "name": "python",
   "nbconvert_exporter": "python",
   "pygments_lexer": "ipython3",
   "version": "3.8.5"
  }
 },
 "nbformat": 4,
 "nbformat_minor": 4
}
